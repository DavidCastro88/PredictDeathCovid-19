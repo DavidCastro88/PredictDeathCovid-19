{
  "cells": [
    {
      "cell_type": "markdown",
      "metadata": {
        "colab_type": "text",
        "id": "view-in-github"
      },
      "source": [
        "<a href=\"https://colab.research.google.com/github/DavidCastro88/PredictDeathCovid-19/blob/main/Predictive_Mortality_Risk_Model.ipynb\" target=\"_parent\"><img src=\"https://colab.research.google.com/assets/colab-badge.svg\" alt=\"Open In Colab\"/></a>"
      ]
    },
    {
      "cell_type": "markdown",
      "metadata": {
        "id": "RTBK_ktBrvnR"
      },
      "source": [
        "# ***Predictive Mortality Risk Model: Analysis of Symptoms and Medical Data in Patients with COVID-19***"
      ]
    },
    {
      "cell_type": "markdown",
      "metadata": {
        "id": "so9ZX758tiOw"
      },
      "source": [
        "### **Object:**\n",
        "\n",
        "The central purpose of this project lies in the construction of an advanced machine learning model aimed at predicting, based on the symptoms, condition and current medical history of a patient affected by COVID-19, the probability that said patient will present a significantly elevated risk. The primary intent is to provide an effective tool that allows proactive assessment of mortality risk in specific patients, based on relevant and individual-specific information. This approach seeks not only to diagnose the presence of the virus, but also to anticipate the degree of severity associated with the patient's condition, which can be instrumental in making medical decisions and allocating resources more efficiently."
      ]
    },
    {
      "cell_type": "code",
      "execution_count": 1,
      "metadata": {
        "id": "D9bvw1Uot7lv"
      },
      "outputs": [],
      "source": [
        "#Common libraries\n",
        "import pandas as pd\n",
        "import matplotlib.pyplot as plt\n",
        "import numpy as np\n",
        "import seaborn as sns\n",
        "\n",
        "# Statistics & Mathematics\n",
        "import scipy.stats as stats\n",
        "import statsmodels.api as sm\n",
        "\n",
        "# Preprocessing data\n",
        "from sklearn.preprocessing import MinMaxScaler,StandardScaler\n",
        "\n",
        "# Model Selection for Cross Validation\n",
        "from sklearn.model_selection import train_test_split\n",
        "\n",
        "# Machine Learning metrics\n",
        "from sklearn import metrics\n",
        "\n",
        "# ML classifiers\n",
        "from sklearn.ensemble import (\n",
        "    HistGradientBoostingClassifier, AdaBoostClassifier,\n",
        "    RandomForestClassifier, GradientBoostingClassifier,\n",
        "    StackingClassifier, VotingClassifier\n",
        "    )\n",
        "from sklearn.neighbors import KNeighborsClassifier\n",
        "from sklearn.linear_model import LogisticRegression\n",
        "\n",
        "# ML Regresión\n",
        "from sklearn.linear_model import LinearRegression, Ridge, Lasso, ElasticNet\n",
        "from sklearn.tree import DecisionTreeRegressor\n",
        "from sklearn.ensemble import RandomForestRegressor, GradientBoostingRegressor, AdaBoostRegressor\n",
        "from sklearn.svm import SVR\n",
        "from sklearn.neighbors import KNeighborsRegressor\n",
        "from sklearn.neural_network import MLPRegressor\n",
        "\n",
        "#Metrics Clasificaction\n",
        "from sklearn.metrics import (accuracy_score, precision_score, recall_score, f1_score,\n",
        "                             confusion_matrix, classification_report, roc_auc_score, roc_curve,\n",
        "                             precision_recall_curve, average_precision_score\n",
        ")\n",
        "\n",
        "#Metricas Regression\n",
        "from sklearn.metrics import (mean_squared_error, mean_absolute_error, r2_score,\n",
        "                             explained_variance_score, max_error, mean_poisson_deviance, mean_gamma_deviance\n",
        "                             )\n",
        "# Randomizer\n",
        "import random\n",
        "\n",
        "# Encoder of categorical variables\n",
        "from sklearn.preprocessing import OrdinalEncoder, OneHotEncoder"
      ]
    },
    {
      "cell_type": "markdown",
      "metadata": {
        "id": "eZb-7avbtIa5"
      },
      "source": [
        "## **1. Recopliación de datos históricos**\n"
      ]
    },
    {
      "cell_type": "code",
      "execution_count": 2,
      "metadata": {
        "id": "7IWtlR3stH7g"
      },
      "outputs": [],
      "source": [
        "data= pd.read_csv('https://raw.githubusercontent.com/DavidCastro88/PredictDeathCovid-19/main/Covid_Data.csv', sep=',',decimal='.')"
      ]
    },
    {
      "cell_type": "code",
      "execution_count": 3,
      "metadata": {
        "colab": {
          "base_uri": "https://localhost:8080/",
          "height": 255
        },
        "id": "aABXRNJzxsnP",
        "outputId": "ffdb14f4-9ca2-4364-c96d-5ed3231c8a24"
      },
      "outputs": [
        {
          "data": {
            "text/html": [
              "<div>\n",
              "<style scoped>\n",
              "    .dataframe tbody tr th:only-of-type {\n",
              "        vertical-align: middle;\n",
              "    }\n",
              "\n",
              "    .dataframe tbody tr th {\n",
              "        vertical-align: top;\n",
              "    }\n",
              "\n",
              "    .dataframe thead th {\n",
              "        text-align: right;\n",
              "    }\n",
              "</style>\n",
              "<table border=\"1\" class=\"dataframe\">\n",
              "  <thead>\n",
              "    <tr style=\"text-align: right;\">\n",
              "      <th></th>\n",
              "      <th>USMER</th>\n",
              "      <th>MEDICAL_UNIT</th>\n",
              "      <th>SEX</th>\n",
              "      <th>PATIENT_TYPE</th>\n",
              "      <th>DATE_DIED</th>\n",
              "      <th>INTUBED</th>\n",
              "      <th>PNEUMONIA</th>\n",
              "      <th>AGE</th>\n",
              "      <th>PREGNANT</th>\n",
              "      <th>DIABETES</th>\n",
              "      <th>...</th>\n",
              "      <th>ASTHMA</th>\n",
              "      <th>INMSUPR</th>\n",
              "      <th>HIPERTENSION</th>\n",
              "      <th>OTHER_DISEASE</th>\n",
              "      <th>CARDIOVASCULAR</th>\n",
              "      <th>OBESITY</th>\n",
              "      <th>RENAL_CHRONIC</th>\n",
              "      <th>TOBACCO</th>\n",
              "      <th>CLASIFFICATION_FINAL</th>\n",
              "      <th>ICU</th>\n",
              "    </tr>\n",
              "  </thead>\n",
              "  <tbody>\n",
              "    <tr>\n",
              "      <th>0</th>\n",
              "      <td>2</td>\n",
              "      <td>1</td>\n",
              "      <td>1</td>\n",
              "      <td>1</td>\n",
              "      <td>03/05/2020</td>\n",
              "      <td>97</td>\n",
              "      <td>1</td>\n",
              "      <td>65</td>\n",
              "      <td>2</td>\n",
              "      <td>2</td>\n",
              "      <td>...</td>\n",
              "      <td>2</td>\n",
              "      <td>2</td>\n",
              "      <td>1</td>\n",
              "      <td>2</td>\n",
              "      <td>2</td>\n",
              "      <td>2</td>\n",
              "      <td>2</td>\n",
              "      <td>2</td>\n",
              "      <td>3</td>\n",
              "      <td>97</td>\n",
              "    </tr>\n",
              "    <tr>\n",
              "      <th>1</th>\n",
              "      <td>2</td>\n",
              "      <td>1</td>\n",
              "      <td>2</td>\n",
              "      <td>1</td>\n",
              "      <td>03/06/2020</td>\n",
              "      <td>97</td>\n",
              "      <td>1</td>\n",
              "      <td>72</td>\n",
              "      <td>97</td>\n",
              "      <td>2</td>\n",
              "      <td>...</td>\n",
              "      <td>2</td>\n",
              "      <td>2</td>\n",
              "      <td>1</td>\n",
              "      <td>2</td>\n",
              "      <td>2</td>\n",
              "      <td>1</td>\n",
              "      <td>1</td>\n",
              "      <td>2</td>\n",
              "      <td>5</td>\n",
              "      <td>97</td>\n",
              "    </tr>\n",
              "    <tr>\n",
              "      <th>2</th>\n",
              "      <td>2</td>\n",
              "      <td>1</td>\n",
              "      <td>2</td>\n",
              "      <td>2</td>\n",
              "      <td>09/06/2020</td>\n",
              "      <td>1</td>\n",
              "      <td>2</td>\n",
              "      <td>55</td>\n",
              "      <td>97</td>\n",
              "      <td>1</td>\n",
              "      <td>...</td>\n",
              "      <td>2</td>\n",
              "      <td>2</td>\n",
              "      <td>2</td>\n",
              "      <td>2</td>\n",
              "      <td>2</td>\n",
              "      <td>2</td>\n",
              "      <td>2</td>\n",
              "      <td>2</td>\n",
              "      <td>3</td>\n",
              "      <td>2</td>\n",
              "    </tr>\n",
              "    <tr>\n",
              "      <th>3</th>\n",
              "      <td>2</td>\n",
              "      <td>1</td>\n",
              "      <td>1</td>\n",
              "      <td>1</td>\n",
              "      <td>12/06/2020</td>\n",
              "      <td>97</td>\n",
              "      <td>2</td>\n",
              "      <td>53</td>\n",
              "      <td>2</td>\n",
              "      <td>2</td>\n",
              "      <td>...</td>\n",
              "      <td>2</td>\n",
              "      <td>2</td>\n",
              "      <td>2</td>\n",
              "      <td>2</td>\n",
              "      <td>2</td>\n",
              "      <td>2</td>\n",
              "      <td>2</td>\n",
              "      <td>2</td>\n",
              "      <td>7</td>\n",
              "      <td>97</td>\n",
              "    </tr>\n",
              "    <tr>\n",
              "      <th>4</th>\n",
              "      <td>2</td>\n",
              "      <td>1</td>\n",
              "      <td>2</td>\n",
              "      <td>1</td>\n",
              "      <td>21/06/2020</td>\n",
              "      <td>97</td>\n",
              "      <td>2</td>\n",
              "      <td>68</td>\n",
              "      <td>97</td>\n",
              "      <td>1</td>\n",
              "      <td>...</td>\n",
              "      <td>2</td>\n",
              "      <td>2</td>\n",
              "      <td>1</td>\n",
              "      <td>2</td>\n",
              "      <td>2</td>\n",
              "      <td>2</td>\n",
              "      <td>2</td>\n",
              "      <td>2</td>\n",
              "      <td>3</td>\n",
              "      <td>97</td>\n",
              "    </tr>\n",
              "  </tbody>\n",
              "</table>\n",
              "<p>5 rows × 21 columns</p>\n",
              "</div>"
            ],
            "text/plain": [
              "   USMER  MEDICAL_UNIT  SEX  PATIENT_TYPE   DATE_DIED  INTUBED  PNEUMONIA  \\\n",
              "0      2             1    1             1  03/05/2020       97          1   \n",
              "1      2             1    2             1  03/06/2020       97          1   \n",
              "2      2             1    2             2  09/06/2020        1          2   \n",
              "3      2             1    1             1  12/06/2020       97          2   \n",
              "4      2             1    2             1  21/06/2020       97          2   \n",
              "\n",
              "   AGE  PREGNANT  DIABETES  ...  ASTHMA  INMSUPR  HIPERTENSION  OTHER_DISEASE  \\\n",
              "0   65         2         2  ...       2        2             1              2   \n",
              "1   72        97         2  ...       2        2             1              2   \n",
              "2   55        97         1  ...       2        2             2              2   \n",
              "3   53         2         2  ...       2        2             2              2   \n",
              "4   68        97         1  ...       2        2             1              2   \n",
              "\n",
              "   CARDIOVASCULAR  OBESITY  RENAL_CHRONIC  TOBACCO  CLASIFFICATION_FINAL  ICU  \n",
              "0               2        2              2        2                     3   97  \n",
              "1               2        1              1        2                     5   97  \n",
              "2               2        2              2        2                     3    2  \n",
              "3               2        2              2        2                     7   97  \n",
              "4               2        2              2        2                     3   97  \n",
              "\n",
              "[5 rows x 21 columns]"
            ]
          },
          "execution_count": 3,
          "metadata": {},
          "output_type": "execute_result"
        }
      ],
      "source": [
        "data.head()"
      ]
    },
    {
      "cell_type": "markdown",
      "metadata": {
        "id": "tNEj_HVAyCD3"
      },
      "source": [
        "The data set was provided by the Mexican government ([Link](https://datos.gob.mx/busca/dataset/informacion-referente-a-casos-covid-19-en-mexico)). This data set contains a huge amount of anonymous information related to the patient, including previous conditions. The raw data set consists of 21 unique features and 1,048,576 unique patients."
      ]
    },
    {
      "cell_type": "markdown",
      "metadata": {
        "id": "1sUhNCA3yQJ3"
      },
      "source": [
        "### ***Explanation of variables***\n",
        "\n",
        "1(Yes), 2(No), 97 and 99 (missing data).\n",
        "\n",
        "USMER: Indicator that classifies whether a patient has been treated in first, second or third level medical units. (1,2 or 3).\n",
        "\n",
        "MEDICAL_UNIT: Type of institution of the National Health System that provided the care. (1-13)\n",
        "\n",
        "SEX: 1 - female. 2 - male.\n",
        "\n",
        "PATIENT_TYPE: type of care the patient received in the unit. 1 for returned home and 2 for hospitalization.\n",
        "\n",
        "DATA_DIED: If the patient died indicate the date of death, and 9999-99-99 otherwise.\n",
        "\n",
        "INTUBED: Whether the patient was connected to the ventilator.\n",
        "\n",
        "PNEUMONIA: whether the patient already have air sacs inflammation or not.\n",
        "\n",
        "AGE: age of the patient.\n",
        "\n",
        "PREGNANT: whether the patient is pregnant or not.\n",
        "\n",
        "DIABETES: whether the patient has diabetes or not.\n",
        "\n",
        "COPD: whether the patient has Chronic obstructive pulmonary disease or not.\n",
        "\n",
        "ASTHMA: Whether the patient has asthma or not.\n",
        "\n",
        "INMSUPR: Whether the patient is immunosuppressed or not.\n",
        "\n",
        "HIPERTENSION: Whether the patient has hypertension or not.\n",
        "\n",
        "OTHER_DISEASE: Whether the patient has other disease or not.\n",
        "\n",
        "CARDIOVASCULAR: Whether the patient has heart or blood vessels related disease.\n",
        "\n",
        "OBESITY: Whether the patient is obese or not.\n",
        "\n",
        "RENAL_CHRONIC: Whether the patient has chronic renal disease or not.\n",
        "\n",
        "TOBACCO: Whether the patient is a tobacco user.\n",
        "\n",
        "CLASIFFICATION_FINAL: Covid test results. see data description, classification: covid test findings. Values 1-3 mean that the patient was diagnosed with covid in different degrees. 4 or higher means that the patient is not a carrier of covid or that the test is inconclusive.\n",
        "\n",
        "\n"
      ]
    },
    {
      "cell_type": "code",
      "execution_count": 4,
      "metadata": {
        "colab": {
          "base_uri": "https://localhost:8080/"
        },
        "id": "O0vn0SKOyM1V",
        "outputId": "cec0d4f3-4377-4085-a092-a8b8feb4f8d7"
      },
      "outputs": [
        {
          "data": {
            "text/plain": [
              "array([97,  1,  2, 99])"
            ]
          },
          "execution_count": 4,
          "metadata": {},
          "output_type": "execute_result"
        }
      ],
      "source": [
        "data['INTUBED'].unique()"
      ]
    },
    {
      "cell_type": "code",
      "execution_count": 5,
      "metadata": {
        "colab": {
          "base_uri": "https://localhost:8080/"
        },
        "id": "4h3eB5QRz08Q",
        "outputId": "5b5b45c0-ea35-4e6f-e7a8-cf97a311c8a1"
      },
      "outputs": [
        {
          "data": {
            "text/plain": [
              "USMER                    int64\n",
              "MEDICAL_UNIT             int64\n",
              "SEX                      int64\n",
              "PATIENT_TYPE             int64\n",
              "DATE_DIED               object\n",
              "INTUBED                  int64\n",
              "PNEUMONIA                int64\n",
              "AGE                      int64\n",
              "PREGNANT                 int64\n",
              "DIABETES                 int64\n",
              "COPD                     int64\n",
              "ASTHMA                   int64\n",
              "INMSUPR                  int64\n",
              "HIPERTENSION             int64\n",
              "OTHER_DISEASE            int64\n",
              "CARDIOVASCULAR           int64\n",
              "OBESITY                  int64\n",
              "RENAL_CHRONIC            int64\n",
              "TOBACCO                  int64\n",
              "CLASIFFICATION_FINAL     int64\n",
              "ICU                      int64\n",
              "dtype: object"
            ]
          },
          "execution_count": 5,
          "metadata": {},
          "output_type": "execute_result"
        }
      ],
      "source": [
        "data.dtypes"
      ]
    }
  ],
  "metadata": {
    "colab": {
      "authorship_tag": "ABX9TyN/RKW1WHDvWoZR0i2fGBB2",
      "include_colab_link": true,
      "provenance": []
    },
    "kernelspec": {
      "display_name": "Python 3",
      "name": "python3"
    },
    "language_info": {
      "codemirror_mode": {
        "name": "ipython",
        "version": 3
      },
      "file_extension": ".py",
      "mimetype": "text/x-python",
      "name": "python",
      "nbconvert_exporter": "python",
      "pygments_lexer": "ipython3",
      "version": "3.10.13"
    }
  },
  "nbformat": 4,
  "nbformat_minor": 0
}
